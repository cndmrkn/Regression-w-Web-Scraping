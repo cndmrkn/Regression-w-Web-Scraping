{
 "cells": [
  {
   "cell_type": "code",
   "execution_count": null,
   "metadata": {},
   "outputs": [],
   "source": [
    "#Web Scarping from the-numbers.com"
   ]
  },
  {
   "cell_type": "code",
   "execution_count": 1,
   "metadata": {},
   "outputs": [],
   "source": [
    "#Importing necessary libraries\n",
    "\n",
    "from bs4 import BeautifulSoup \n",
    "import urllib\n",
    "import requests\n",
    "from IPython.core.display import display, HTML\n",
    "import numpy as np\n",
    "import pandas as pd\n",
    "import re"
   ]
  },
  {
   "cell_type": "code",
   "execution_count": null,
   "metadata": {},
   "outputs": [],
   "source": [
    "##Functions"
   ]
  },
  {
   "cell_type": "code",
   "execution_count": 2,
   "metadata": {},
   "outputs": [],
   "source": [
    "\n",
    "def movdet(cast): #to scrape actor and director names\n",
    "    urlmain = 'https://www.the-numbers.com'\n",
    "    urlmov=urlmain+cast\n",
    "    #Request HTML and parse\n",
    "    response = requests.get(urlmov)\n",
    "    page = response.text\n",
    "    soup = BeautifulSoup(page,\"lxml\")\n",
    "\n",
    "    actor= list()\n",
    "    try:\n",
    "        for i in soup.find_all(itemprop = \"actor\"):\n",
    "            for a in i.find_all('a', href=True):\n",
    "                actor.append(a['href'])\n",
    "        actor2= list()\n",
    "        for i in range(len(actor)):\n",
    "            a, b= str(actor[i]).split(\"-\", 1)\n",
    "            actor2.append(b)\n",
    "        star.append(actor2[0])\n",
    "        director1= list()\n",
    "        for i in soup.find_all(itemprop = \"director\"):\n",
    "            for a in i.find_all('a', href=True):\n",
    "                director1.append(a['href'])\n",
    "        director2= list()\n",
    "        for i in range(len(director1)):\n",
    "            a, b= str(director1[i]).split(\"-\", 1)\n",
    "            director2.append(b)\n",
    "        director.append(director2[0])\n",
    "    except:\n",
    "        star.append(\"None\")\n",
    "        director.append(\"None\")\n",
    "    \n",
    "\n",
    "def movsum(sumlist): # to scrape mpaa rating and genre\n",
    "    tempurl=\"https://www.the-numbers.com\"+str(sumlist)\n",
    "    tempres=requests.get(tempurl)\n",
    "    temppage = tempres.text\n",
    "    tempsoup = BeautifulSoup(temppage,\"lxml\")\n",
    "\n",
    "    mpaa=tempsoup.find(\"a\", href=re.compile(\"market/mpaa-rating\"))\n",
    "    mpaa= str(mpaa).strip('<a href=\"/market/mpaa-rating/').split(\"-(US)\", 1)\n",
    "    rating.append(mpaa[0])\n",
    "\n",
    "    gen=tempsoup.find(\"a\", href=re.compile(\"/market/genre/\"))\n",
    "    gen= str(gen).strip('<a href=\"/market/genre/').split('\">', 1)\n",
    "    genre.append(gen[0])\n"
   ]
  },
  {
   "cell_type": "code",
   "execution_count": 3,
   "metadata": {},
   "outputs": [],
   "source": [
    "#getting inital data from html\n",
    "    \n",
    "url1 = 'https://www.the-numbers.com/movie/budgets/all'\n",
    "\n",
    "\n",
    "response = requests.get(url1)\n",
    "response.status_code \n",
    "myhtml= response.text\n",
    "\n",
    "soup = BeautifulSoup(myhtml, 'lxml')\n",
    "\n"
   ]
  },
  {
   "cell_type": "code",
   "execution_count": 4,
   "metadata": {},
   "outputs": [],
   "source": [
    "#features to scrape\n",
    "rank=[]\n",
    "budget=[]\n",
    "dom_gross=[]\n",
    "ww_gross=[]\n",
    "star=list()\n",
    "costar=list()\n",
    "director=list()\n",
    "producer=list()\n",
    "rating=list()\n",
    "genre=list()\n",
    "\n"
   ]
  },
  {
   "cell_type": "code",
   "execution_count": null,
   "metadata": {},
   "outputs": [],
   "source": [
    "##data cleaning"
   ]
  },
  {
   "cell_type": "code",
   "execution_count": 5,
   "metadata": {},
   "outputs": [],
   "source": [
    "budgets=[]\n",
    "for elem in soup.find_all(class_='data'):\n",
    "    budgets.append(elem.text)\n",
    "\n",
    "for i in range(len(budgets)):\n",
    "    budgets[i]=(re.sub(\"[^0-9]\", \"\",  budgets[i]))\n",
    "budgets= list(budgets)\n",
    "\n",
    " # rank number \n",
    "for i in range(0, len(budgets), 4):\n",
    "    rank.append(budgets[i])\n",
    "\n",
    "# budget\n",
    "for i in range(1, len(budgets), 4):\n",
    "    budget.append(budgets[i])\n",
    "\n",
    "# domestic gross\n",
    "for i in range(2, len(budgets), 4):\n",
    "    dom_gross.append(budgets[i])\n",
    "\n",
    " # worldwide gross\n",
    "for i in range(3, len(budgets), 4):\n",
    "    ww_gross.append(budgets[i])\n",
    "\n"
   ]
  },
  {
   "cell_type": "code",
   "execution_count": 6,
   "metadata": {},
   "outputs": [],
   "source": [
    "\n",
    "link_lst= list() #temp list of all links in table\n",
    "sumlist=list() #list of links to movie summary tab\n",
    "cast = list()  #list of links to movie cast&crew tab\n",
    "\n",
    "table = soup.find('table')\n",
    " \n",
    "for a in table.find_all('a', href=True):\n",
    "    link_lst.append(a['href'])\n",
    "\n",
    "dates= list()\n",
    "for i in range(0, len(link_lst), 2):\n",
    "    link_lst[i]= link_lst[i].replace('/box-office-chart/daily/', '')\n",
    "    dates.append(link_lst[i])\n",
    "    \n",
    "\n",
    "for i in range(1, len(link_lst), 2):\n",
    "    sumlist.append(link_lst[i])\n",
    "    link_lst[i]= link_lst[i].replace('=summary', '=cast-and-crew')\n",
    "    cast.append(link_lst[i])\n",
    "\n",
    "\n",
    "\n",
    "\n"
   ]
  },
  {
   "cell_type": "code",
   "execution_count": 7,
   "metadata": {},
   "outputs": [],
   "source": [
    "#scraping each mov page \n",
    "for i in range(len(cast)):\n",
    "    movdet(cast[i])\n",
    "for j in range(len(sumlist)):\n",
    "    movsum(sumlist[i])"
   ]
  },
  {
   "cell_type": "code",
   "execution_count": 8,
   "metadata": {},
   "outputs": [
    {
     "name": "stdout",
     "output_type": "stream",
     "text": [
      "cast=100\n",
      "sumlist=100\n",
      "dir=100\n",
      "star=100\n",
      "gen=100\n",
      "rat=100\n"
     ]
    }
   ],
   "source": [
    "# verifying all my lists have same number of elements\n",
    "print('cast={}'.format(len(cast)))\n",
    "print('sumlist={}'.format(len(sumlist)))\n",
    "print('dir={}'.format(len(director)))\n",
    "print('star={}'.format(len(star)))\n",
    "print('gen={}'.format(len(genre)))\n",
    "print('rat={}'.format(len(rating)))"
   ]
  },
  {
   "cell_type": "code",
   "execution_count": 9,
   "metadata": {},
   "outputs": [
    {
     "name": "stdout",
     "output_type": "stream",
     "text": [
      "<bound method NDFrame.head of    Number     Budget Domestic Gross Worldwide Gross         Director  \\\n",
      "0       1  400000000      858373000      2797800564        Joe-Russo   \n",
      "1       2  379000000      241063875      1045663875     Rob-Marshall   \n",
      "2       3  365000000      459005868      1396099202      Joss-Whedon   \n",
      "3       4  306000000      936662225      2065478084       J-J-Abrams   \n",
      "4       5  300000000      678815482      2044540523        Joe-Russo   \n",
      "..    ...        ...            ...             ...              ...   \n",
      "95     96  180000000      223808164       532508025   Andrew-Stanton   \n",
      "96     97  180000000      140125968       256585882             None   \n",
      "97     98  180000000      126643061       348902025      David-Yates   \n",
      "98     99  180000000       73864507       180047784  Martin-Scorsese   \n",
      "99    100  180000000       40479370       215098356       Luc-Besson   \n",
      "\n",
      "              Main Actor Release Date      Genre   MPAA  \n",
      "0       Robert-Downey-Jr   2019/04/23  Adventure  PG-13  \n",
      "1            Johnny-Depp   2011/05/20  Adventure  PG-13  \n",
      "2           James-Spader   2015/04/22  Adventure  PG-13  \n",
      "3            Adam-Driver   2015/12/16  Adventure  PG-13  \n",
      "4       Robert-Downey-Jr   2018/04/25  Adventure  PG-13  \n",
      "..                   ...          ...        ...    ...  \n",
      "95             Ben-Burtt   2008/06/27  Adventure  PG-13  \n",
      "96                  None   2007/08/10  Adventure  PG-13  \n",
      "97  Alexander-SkarsgA-rd   2016/06/27  Adventure  PG-13  \n",
      "98          Ben-Kingsley   2011/11/23  Adventure  PG-13  \n",
      "99           Dane-DeHaan   2017/07/20  Adventure  PG-13  \n",
      "\n",
      "[100 rows x 9 columns]>\n"
     ]
    }
   ],
   "source": [
    "#creates df from lists\n",
    "df=pd.DataFrame(list(zip(rank, budget, dom_gross, ww_gross, director, star, dates, genre, rating)), \n",
    "               columns =['Number', 'Budget', 'Domestic Gross', 'Worldwide Gross', 'Director', 'Main Actor', 'Release Date', 'Genre', 'MPAA'])\n",
    "print(df.head)"
   ]
  },
  {
   "cell_type": "code",
   "execution_count": 99,
   "metadata": {},
   "outputs": [],
   "source": [
    "#makes csv file from df\n",
    "\n",
    "df.to_csv(r'C:\\Users\\TCIDEMIRKAN\\Desktop\\DS BootCamp\\DSBootCampNov\\curriculum\\project-02\\project-02-introduction\\CSV\\movdf.csv', index= False)"
   ]
  }
 ],
 "metadata": {
  "kernelspec": {
   "display_name": "Python 3",
   "language": "python",
   "name": "python3"
  },
  "language_info": {
   "codemirror_mode": {
    "name": "ipython",
    "version": 3
   },
   "file_extension": ".py",
   "mimetype": "text/x-python",
   "name": "python",
   "nbconvert_exporter": "python",
   "pygments_lexer": "ipython3",
   "version": "3.7.4"
  }
 },
 "nbformat": 4,
 "nbformat_minor": 4
}
