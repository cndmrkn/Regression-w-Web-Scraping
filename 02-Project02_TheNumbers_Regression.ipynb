{
 "cells": [
  {
   "cell_type": "code",
   "execution_count": 26,
   "metadata": {},
   "outputs": [],
   "source": [
    "from bs4 import BeautifulSoup\n",
    "import urllib\n",
    "import requests\n",
    "from IPython.core.display import display,HTML\n",
    "import numpy as np\n",
    "import pandas as pd\n",
    "import re"
   ]
  },
  {
   "cell_type": "code",
   "execution_count": 27,
   "metadata": {},
   "outputs": [],
   "source": [
    "#functions for populating feature lists\n",
    "\n",
    "def movdet(cast): #gets actor and director names\n",
    "    urlmain = 'https://www.the-numbers.com'\n",
    "    urlmov=urlmain+cast\n",
    "    #Request HTML and parse\n",
    "    response = requests.get(urlmov)\n",
    "    page = response.text\n",
    "    soup = BeautifulSoup(page,\"lxml\")\n",
    "\n",
    "    actor= list()\n",
    "    try:\n",
    "        for i in soup.find_all(itemprop = \"actor\"):\n",
    "            for a in i.find_all('a', href=True):\n",
    "                actor.append(a['href'])\n",
    "        actor2= list()\n",
    "        for i in range(len(actor)):\n",
    "            a, b= str(actor[i]).split(\"-\", 1)\n",
    "            actor2.append(b)\n",
    "        star.append(actor2[0])\n",
    "        director1= list()\n",
    "        for i in soup.find_all(itemprop = \"director\"):\n",
    "            for a in i.find_all('a', href=True):\n",
    "                director1.append(a['href'])\n",
    "        director2= list()\n",
    "        for i in range(len(director1)):\n",
    "            a, b= str(director1[i]).split(\"-\", 1)\n",
    "            director2.append(b)\n",
    "        director.append(director2[0])\n",
    "    except:\n",
    "        star.append(\"None\")\n",
    "        director.append(\"None\")\n",
    "    \n",
    "\n",
    "def movsum(sumlist): # gets mpaa rating and genre\n",
    "    tempurl=\"https://www.the-numbers.com\"+str(sumlist)\n",
    "    tempres=requests.get(tempurl)\n",
    "    temppage = tempres.text\n",
    "    tempsoup = BeautifulSoup(temppage,\"lxml\")\n",
    "\n",
    "    mpaa=tempsoup.find(\"a\", href=re.compile(\"market/mpaa-rating\"))\n",
    "    mpaa= str(mpaa).strip('<a href=\"/market/mpaa-rating/').split(\"-(US)\", 1)\n",
    "    rating.append(mpaa[0])\n",
    "\n",
    "    gen=tempsoup.find(\"a\", href=re.compile(\"/market/genre/\"))\n",
    "    gen= str(gen).strip('<a href=\"/market/genre/').split('\">', 1)\n",
    "    genre.append(gen[0])"
   ]
  },
  {
   "cell_type": "code",
   "execution_count": 28,
   "metadata": {},
   "outputs": [],
   "source": [
    "### Scraping names of films\n",
    "#this list will be used to later used to scrape page of each film individually "
   ]
  },
  {
   "cell_type": "code",
   "execution_count": 101,
   "metadata": {},
   "outputs": [],
   "source": [
    "#getting inital data from html\n",
    "    \n",
    "url1 = 'https://www.the-numbers.com/movie/budgets/all/901'\n",
    "\n",
    "\n",
    "response = requests.get(url1)\n",
    "response.status_code \n",
    "myhtml= response.text\n",
    "\n",
    "soup = BeautifulSoup(myhtml, 'lxml')"
   ]
  },
  {
   "cell_type": "code",
   "execution_count": 102,
   "metadata": {},
   "outputs": [],
   "source": [
    "#lists for  features i actually was able to scrape\n",
    "rank=[]\n",
    "budget=[]\n",
    "dom_gross=[]\n",
    "ww_gross=[]\n",
    "star=list()\n",
    "costar=list()\n",
    "director=list()\n",
    "producer=list()\n",
    "rating=list()\n",
    "genre=list()\n"
   ]
  },
  {
   "cell_type": "code",
   "execution_count": 103,
   "metadata": {},
   "outputs": [],
   "source": [
    "## Data cleaning"
   ]
  },
  {
   "cell_type": "code",
   "execution_count": 104,
   "metadata": {},
   "outputs": [],
   "source": [
    "#cleaning data to retain only numeric values\n",
    "budgets=[]\n",
    "for elem in soup.find_all(class_='data'):\n",
    "    budgets.append(elem.text)\n",
    "\n",
    "for i in range(len(budgets)):\n",
    "    budgets[i]=(re.sub(\"[^0-9]\", \"\",  budgets[i]))\n",
    "budgets= list(budgets)\n",
    "\n",
    " # rank number \n",
    "for i in range(0, len(budgets), 4):\n",
    "    rank.append(budgets[i])\n",
    "\n",
    "# budget\n",
    "for i in range(1, len(budgets), 4):\n",
    "    budget.append(budgets[i])\n",
    "\n",
    "# domestic gross\n",
    "for i in range(2, len(budgets), 4):\n",
    "    dom_gross.append(budgets[i])\n",
    "\n",
    " # worldwide gross\n",
    "for i in range(3, len(budgets), 4):\n",
    "    ww_gross.append(budgets[i])\n"
   ]
  },
  {
   "cell_type": "code",
   "execution_count": 105,
   "metadata": {},
   "outputs": [],
   "source": [
    "#lists for storing links to each film \n",
    "link_lst= list() #temp list of all links in table\n",
    "sumlist=list() #list of links to movie summary tab\n",
    "cast = list()  #list of links to movie cast&crew tab\n",
    "\n",
    "table = soup.find('table')\n",
    " \n",
    "for a in table.find_all('a', href=True):\n",
    "    link_lst.append(a['href'])\n",
    "\n",
    "dates= list()\n",
    "for i in range(0, len(link_lst), 2):\n",
    "    link_lst[i]= link_lst[i].replace('/box-office-chart/daily/', '')\n",
    "    dates.append(link_lst[i])\n",
    "    \n",
    "\n",
    "for i in range(1, len(link_lst), 2):\n",
    "    sumlist.append(link_lst[i])\n",
    "    link_lst[i]= link_lst[i].replace('=summary', '=cast-and-crew')\n",
    "    cast.append(link_lst[i])\n"
   ]
  },
  {
   "cell_type": "code",
   "execution_count": 106,
   "metadata": {},
   "outputs": [],
   "source": [
    "#scraping each mov page \n",
    "for i in range(len(cast)):\n",
    "    movdet(cast[i])\n",
    "for j in range(len(sumlist)):\n",
    "    movsum(sumlist[i])"
   ]
  },
  {
   "cell_type": "code",
   "execution_count": 107,
   "metadata": {},
   "outputs": [
    {
     "name": "stdout",
     "output_type": "stream",
     "text": [
      "cast=100\n",
      "sumlist=100\n",
      "dir=100\n",
      "star=100\n",
      "gen=100\n",
      "rat=100\n"
     ]
    }
   ],
   "source": [
    "# verifying all my lists have same number of elements\n",
    "print('cast={}'.format(len(cast)))\n",
    "print('sumlist={}'.format(len(sumlist)))\n",
    "print('dir={}'.format(len(director)))\n",
    "print('star={}'.format(len(star)))\n",
    "print('gen={}'.format(len(genre)))\n",
    "print('rat={}'.format(len(rating)))"
   ]
  },
  {
   "cell_type": "code",
   "execution_count": 108,
   "metadata": {},
   "outputs": [
    {
     "name": "stdout",
     "output_type": "stream",
     "text": [
      "<bound method NDFrame.head of    Number    Budget Domestic Gross Worldwide Gross          Director  \\\n",
      "0     901  60000000       90580000       165890634     Chuck-Russell   \n",
      "1     902  60000000       90380162       196439693  Robert-Schwentke   \n",
      "2     903  60000000       88200225       170200225     Todd-Phillips   \n",
      "3     904  60000000       82670733       157670733        Tony-Scott   \n",
      "4     905  60000000       82571173       135015330              None   \n",
      "..    ...       ...            ...             ...               ...   \n",
      "95    996  59000000       16790790        28296983       Joe-Cornish   \n",
      "96    997  58000000      363070709       784682527        Tim-Miller   \n",
      "97    998  58000000      350126372       547326372    Clint-Eastwood   \n",
      "98    999  58000000       80069458       158893300     Rob-Letterman   \n",
      "99   1000  58000000       53715611       188715611              None   \n",
      "\n",
      "                Main Actor Release Date   Genre MPAA  \n",
      "0           Dwayne-Johnson   2002/04/18  Action    R  \n",
      "1             Bruce-Willis   2010/10/15  Action    R  \n",
      "2              Ben-Stiller   2004/03/05  Action    R  \n",
      "3               Tom-Cruise   1990/06/27  Action    R  \n",
      "4                     None   2005/12/21  Action    R  \n",
      "..                     ...          ...     ...  ...  \n",
      "95  Louis-Ashbourne-Serkis   2019/01/18  Action    R  \n",
      "96           Ryan-Reynolds   2016/02/09  Action    R  \n",
      "97          Bradley-Cooper   2014/12/25  Action    R  \n",
      "98              Jack-Black   2015/10/14  Action    R  \n",
      "99                    None   1988/05/25  Action    R  \n",
      "\n",
      "[100 rows x 9 columns]>\n"
     ]
    }
   ],
   "source": [
    "#creates pandas df from all lists\n",
    "df=pd.DataFrame(list(zip(rank, budget, dom_gross, ww_gross, director, star, dates, genre, rating)), \n",
    "               columns =['Number', 'Budget', 'Domestic Gross', 'Worldwide Gross', 'Director', 'Main Actor', 'Release Date', 'Genre', 'MPAA'])\n",
    "print(df.head)"
   ]
  },
  {
   "cell_type": "code",
   "execution_count": 109,
   "metadata": {},
   "outputs": [],
   "source": [
    "#makes csv file from df\n",
    "\n",
    "df.to_csv(r'C:\\Users\\TCIDEMIRKAN\\Desktop\\DS BootCamp\\DSBootCampNov\\curriculum\\project-02\\project-02-introduction\\CSV\\movdf10.csv', index= False)"
   ]
  },
  {
   "cell_type": "code",
   "execution_count": null,
   "metadata": {},
   "outputs": [],
   "source": []
  }
 ],
 "metadata": {
  "kernelspec": {
   "display_name": "Python 3",
   "language": "python",
   "name": "python3"
  },
  "language_info": {
   "codemirror_mode": {
    "name": "ipython",
    "version": 3
   },
   "file_extension": ".py",
   "mimetype": "text/x-python",
   "name": "python",
   "nbconvert_exporter": "python",
   "pygments_lexer": "ipython3",
   "version": "3.7.4"
  }
 },
 "nbformat": 4,
 "nbformat_minor": 2
}
